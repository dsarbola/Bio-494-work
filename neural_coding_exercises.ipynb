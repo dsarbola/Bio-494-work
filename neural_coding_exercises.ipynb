{
  "nbformat": 4,
  "nbformat_minor": 0,
  "metadata": {
    "colab": {
      "name": "Copy of neural-coding-exercises.ipynb",
      "version": "0.3.2",
      "provenance": [],
      "collapsed_sections": [
        "fY0CclfyC9xs",
        "LFuafM2bC9yD",
        "lDn9cdNFC9yd",
        "u0rp9q8tC9yo"
      ],
      "include_colab_link": true
    },
    "kernelspec": {
      "display_name": "Python 3",
      "language": "python",
      "name": "python3"
    }
  },
  "cells": [
    {
      "cell_type": "markdown",
      "metadata": {
        "id": "view-in-github",
        "colab_type": "text"
      },
      "source": [
        "<a href=\"https://colab.research.google.com/github/dsarbola/Bio-494-work/blob/master/neural_coding_exercises.ipynb\" target=\"_parent\"><img src=\"https://colab.research.google.com/assets/colab-badge.svg\" alt=\"Open In Colab\"/></a>"
      ]
    },
    {
      "metadata": {
        "id": "QbFafUJaC9wf",
        "colab_type": "code",
        "outputId": "6cacb94c-48eb-40f8-a8c1-059a540a6ace",
        "colab": {
          "base_uri": "https://localhost:8080/",
          "height": 310
        }
      },
      "cell_type": "code",
      "source": [
        "# Upgrade seaborn for colab\n",
        "!pip install -U seaborn"
      ],
      "execution_count": 1,
      "outputs": [
        {
          "output_type": "stream",
          "text": [
            "Requirement already up-to-date: seaborn in /usr/local/lib/python3.6/dist-packages (0.9.0)\n",
            "Requirement already satisfied, skipping upgrade: matplotlib>=1.4.3 in /usr/local/lib/python3.6/dist-packages (from seaborn) (3.0.2)\n",
            "Requirement already satisfied, skipping upgrade: pandas>=0.15.2 in /usr/local/lib/python3.6/dist-packages (from seaborn) (0.22.0)\n",
            "Requirement already satisfied, skipping upgrade: scipy>=0.14.0 in /usr/local/lib/python3.6/dist-packages (from seaborn) (1.1.0)\n",
            "Requirement already satisfied, skipping upgrade: numpy>=1.9.3 in /usr/local/lib/python3.6/dist-packages (from seaborn) (1.14.6)\n",
            "Requirement already satisfied, skipping upgrade: cycler>=0.10 in /usr/local/lib/python3.6/dist-packages (from matplotlib>=1.4.3->seaborn) (0.10.0)\n",
            "Requirement already satisfied, skipping upgrade: python-dateutil>=2.1 in /usr/local/lib/python3.6/dist-packages (from matplotlib>=1.4.3->seaborn) (2.5.3)\n",
            "Requirement already satisfied, skipping upgrade: kiwisolver>=1.0.1 in /usr/local/lib/python3.6/dist-packages (from matplotlib>=1.4.3->seaborn) (1.0.1)\n",
            "Requirement already satisfied, skipping upgrade: pyparsing!=2.0.4,!=2.1.2,!=2.1.6,>=2.0.1 in /usr/local/lib/python3.6/dist-packages (from matplotlib>=1.4.3->seaborn) (2.3.1)\n",
            "Requirement already satisfied, skipping upgrade: pytz>=2011k in /usr/local/lib/python3.6/dist-packages (from pandas>=0.15.2->seaborn) (2018.9)\n",
            "Requirement already satisfied, skipping upgrade: six in /usr/local/lib/python3.6/dist-packages (from cycler>=0.10->matplotlib>=1.4.3->seaborn) (1.11.0)\n",
            "Requirement already satisfied, skipping upgrade: setuptools in /usr/local/lib/python3.6/dist-packages (from kiwisolver>=1.0.1->matplotlib>=1.4.3->seaborn) (40.8.0)\n"
          ],
          "name": "stdout"
        }
      ]
    },
    {
      "metadata": {
        "id": "No1Z-wcFC9wt",
        "colab_type": "code",
        "colab": {}
      },
      "cell_type": "code",
      "source": [
        "%matplotlib inline\n",
        "import matplotlib.pyplot as plt\n",
        "import numpy as np\n",
        "import pandas as pd\n",
        "import seaborn as sns\n",
        "import h5py\n",
        "sns.set(font_scale=1.5)"
      ],
      "execution_count": 0,
      "outputs": []
    },
    {
      "metadata": {
        "id": "iXX99KvAC9w0",
        "colab_type": "text"
      },
      "cell_type": "markdown",
      "source": [
        "## Let's load some data obtained by the Buzsaki lab at NYU.  They recorded from the hippocampus of a rat while it ran back and forth across a linear track"
      ]
    },
    {
      "metadata": {
        "id": "bMr6Vwp3C9w3",
        "colab_type": "code",
        "colab": {}
      },
      "cell_type": "code",
      "source": [
        "# The first file contains the times, cell IDs, and animal location for each spike that occurred\n",
        "spikes = pd.read_csv('https://github.com/rgerkin/neuro-data-analysis-course/raw/master/data/place_cell_spike_data.csv')\n",
        "\n",
        "# The first file contains the times, cell IDs, and animal location for each spike that occurred\n",
        "locations = pd.read_csv('https://github.com/rgerkin/neuro-data-analysis-course/raw/master/data/place_cell_location_data.csv')"
      ],
      "execution_count": 0,
      "outputs": []
    },
    {
      "metadata": {
        "id": "SnplChfHC9w7",
        "colab_type": "text"
      },
      "cell_type": "markdown",
      "source": [
        "#### This first dataframe contains one row for each spike that was recorded.  The cell_id is arbitrary, but any two rows with the same cell id correspond to spikes reocrded from the same cell.  The index is time (starting several hours into the experiment), and the other columns are the linear location on the track (\"d\", measured from the track's left edge) and also the actual 2d coordinates (\"x\" and \"y\", which we will ignore). I've restricted the data to 0.2m < d < 1.4m, which is where the rat actually runs on the track (instead of sitting at the ends doing nothing).  "
      ]
    },
    {
      "metadata": {
        "id": "BFKane3JC9w9",
        "colab_type": "code",
        "outputId": "0cf95103-20e4-4ddb-bdb5-c6d811d78f41",
        "colab": {
          "base_uri": "https://localhost:8080/",
          "height": 235
        }
      },
      "cell_type": "code",
      "source": [
        "spikes = spikes.set_index('t')\n",
        "spikes.head()"
      ],
      "execution_count": 4,
      "outputs": [
        {
          "output_type": "execute_result",
          "data": {
            "text/html": [
              "<div>\n",
              "<style scoped>\n",
              "    .dataframe tbody tr th:only-of-type {\n",
              "        vertical-align: middle;\n",
              "    }\n",
              "\n",
              "    .dataframe tbody tr th {\n",
              "        vertical-align: top;\n",
              "    }\n",
              "\n",
              "    .dataframe thead th {\n",
              "        text-align: right;\n",
              "    }\n",
              "</style>\n",
              "<table border=\"1\" class=\"dataframe\">\n",
              "  <thead>\n",
              "    <tr style=\"text-align: right;\">\n",
              "      <th></th>\n",
              "      <th>cell_ids</th>\n",
              "      <th>d</th>\n",
              "      <th>x</th>\n",
              "      <th>y</th>\n",
              "    </tr>\n",
              "    <tr>\n",
              "      <th>t</th>\n",
              "      <th></th>\n",
              "      <th></th>\n",
              "      <th></th>\n",
              "      <th></th>\n",
              "    </tr>\n",
              "  </thead>\n",
              "  <tbody>\n",
              "    <tr>\n",
              "      <th>18194.76930</th>\n",
              "      <td>609</td>\n",
              "      <td>0.200284</td>\n",
              "      <td>-0.061786</td>\n",
              "      <td>-0.189188</td>\n",
              "    </tr>\n",
              "    <tr>\n",
              "      <th>18194.77235</th>\n",
              "      <td>529</td>\n",
              "      <td>0.201205</td>\n",
              "      <td>-0.060900</td>\n",
              "      <td>-0.189143</td>\n",
              "    </tr>\n",
              "    <tr>\n",
              "      <th>18194.77305</th>\n",
              "      <td>1209</td>\n",
              "      <td>0.202125</td>\n",
              "      <td>-0.060015</td>\n",
              "      <td>-0.189098</td>\n",
              "    </tr>\n",
              "    <tr>\n",
              "      <th>18194.77855</th>\n",
              "      <td>416</td>\n",
              "      <td>0.203724</td>\n",
              "      <td>-0.058476</td>\n",
              "      <td>-0.189284</td>\n",
              "    </tr>\n",
              "    <tr>\n",
              "      <th>18194.77955</th>\n",
              "      <td>828</td>\n",
              "      <td>0.204402</td>\n",
              "      <td>-0.057822</td>\n",
              "      <td>-0.189515</td>\n",
              "    </tr>\n",
              "  </tbody>\n",
              "</table>\n",
              "</div>"
            ],
            "text/plain": [
              "             cell_ids         d         x         y\n",
              "t                                                  \n",
              "18194.76930       609  0.200284 -0.061786 -0.189188\n",
              "18194.77235       529  0.201205 -0.060900 -0.189143\n",
              "18194.77305      1209  0.202125 -0.060015 -0.189098\n",
              "18194.77855       416  0.203724 -0.058476 -0.189284\n",
              "18194.77955       828  0.204402 -0.057822 -0.189515"
            ]
          },
          "metadata": {
            "tags": []
          },
          "execution_count": 4
        }
      ]
    },
    {
      "metadata": {
        "id": "wsJ0nWVGC9xB",
        "colab_type": "text"
      },
      "cell_type": "markdown",
      "source": [
        "#### The second dataframe contains one row for each ~25 ms of elapsed time.  They were recording the movement of the rat with a video camera, so each row is derived from one frame of that movie.  "
      ]
    },
    {
      "metadata": {
        "id": "2AYChsveC9xD",
        "colab_type": "code",
        "outputId": "6d4c965e-ead9-454e-9caa-068a922ecc14",
        "colab": {
          "base_uri": "https://localhost:8080/",
          "height": 235
        }
      },
      "cell_type": "code",
      "source": [
        "locations = locations.set_index('t')\n",
        "locations.head()"
      ],
      "execution_count": 5,
      "outputs": [
        {
          "output_type": "execute_result",
          "data": {
            "text/html": [
              "<div>\n",
              "<style scoped>\n",
              "    .dataframe tbody tr th:only-of-type {\n",
              "        vertical-align: middle;\n",
              "    }\n",
              "\n",
              "    .dataframe tbody tr th {\n",
              "        vertical-align: top;\n",
              "    }\n",
              "\n",
              "    .dataframe thead th {\n",
              "        text-align: right;\n",
              "    }\n",
              "</style>\n",
              "<table border=\"1\" class=\"dataframe\">\n",
              "  <thead>\n",
              "    <tr style=\"text-align: right;\">\n",
              "      <th></th>\n",
              "      <th>d</th>\n",
              "      <th>x</th>\n",
              "      <th>y</th>\n",
              "    </tr>\n",
              "    <tr>\n",
              "      <th>t</th>\n",
              "      <th></th>\n",
              "      <th></th>\n",
              "      <th></th>\n",
              "    </tr>\n",
              "  </thead>\n",
              "  <tbody>\n",
              "    <tr>\n",
              "      <th>18194.776399</th>\n",
              "      <td>0.203045</td>\n",
              "      <td>-0.059129</td>\n",
              "      <td>-0.189053</td>\n",
              "    </tr>\n",
              "    <tr>\n",
              "      <th>18194.801998</th>\n",
              "      <td>0.213904</td>\n",
              "      <td>-0.048677</td>\n",
              "      <td>-0.192750</td>\n",
              "    </tr>\n",
              "    <tr>\n",
              "      <th>18194.827598</th>\n",
              "      <td>0.219871</td>\n",
              "      <td>-0.042934</td>\n",
              "      <td>-0.198324</td>\n",
              "    </tr>\n",
              "    <tr>\n",
              "      <th>18194.853198</th>\n",
              "      <td>0.225473</td>\n",
              "      <td>-0.037541</td>\n",
              "      <td>-0.203761</td>\n",
              "    </tr>\n",
              "    <tr>\n",
              "      <th>18194.878798</th>\n",
              "      <td>0.236299</td>\n",
              "      <td>-0.027121</td>\n",
              "      <td>-0.207461</td>\n",
              "    </tr>\n",
              "  </tbody>\n",
              "</table>\n",
              "</div>"
            ],
            "text/plain": [
              "                     d         x         y\n",
              "t                                         \n",
              "18194.776399  0.203045 -0.059129 -0.189053\n",
              "18194.801998  0.213904 -0.048677 -0.192750\n",
              "18194.827598  0.219871 -0.042934 -0.198324\n",
              "18194.853198  0.225473 -0.037541 -0.203761\n",
              "18194.878798  0.236299 -0.027121 -0.207461"
            ]
          },
          "metadata": {
            "tags": []
          },
          "execution_count": 5
        }
      ]
    },
    {
      "metadata": {
        "id": "3VWuohvEC9xH",
        "colab_type": "text"
      },
      "cell_type": "markdown",
      "source": [
        "## (1)"
      ]
    },
    {
      "metadata": {
        "id": "A3kdAw2_C9xI",
        "colab_type": "text"
      },
      "cell_type": "markdown",
      "source": [
        "### (a)\n",
        "#### Let's take a brief look at this data.  A good strategy is to figure out the range of your data (highs, lows, typical values) by making a histogram.  Access the \"d\" column of the locations dataframe, and then make a histogram with the `.hist()` method.  \n",
        "\n",
        "#### You can use the default number of histogram bins, or change it with the \"bins\" argument (e.g. `.hist(bins=100)`).  You should see that the rat was on most of the track, slightly preferring the left-side (near d=0) to the right side.  "
      ]
    },
    {
      "metadata": {
        "id": "UFuYLrzPC9xK",
        "colab_type": "code",
        "outputId": "253e6180-1027-41fd-d251-1e5dda4feab1",
        "colab": {
          "base_uri": "https://localhost:8080/",
          "height": 296
        }
      },
      "cell_type": "code",
      "source": [
        "locations.hist(bins=100)\n",
        "plt.xlabel('Location along track (m)')\n",
        "plt.ylabel('# of samples that animal\\nwas present there');"
      ],
      "execution_count": 6,
      "outputs": [
        {
          "output_type": "display_data",
          "data": {
            "image/png": "[encoded data removed]",
            "text/plain": [
              "<Figure size 432x288 with 4 Axes>"
            ]
          },
          "metadata": {
            "tags": []
          }
        }
      ]
    },
    {
      "metadata": {
        "id": "aGs589VaC9xO",
        "colab_type": "text"
      },
      "cell_type": "markdown",
      "source": [
        "### (b)\n",
        "#### Do the same thing with the `spikes` dataframe to see at what locations on the track the spikes occurred.  "
      ]
    },
    {
      "metadata": {
        "id": "Ez1WwsQeC9xP",
        "colab_type": "code",
        "outputId": "5ef32008-ae10-4c60-b0b7-82369fb5cd13",
        "colab": {
          "base_uri": "https://localhost:8080/",
          "height": 343
        }
      },
      "cell_type": "code",
      "source": [
        "spikes.hist()\n",
        "plt.xlabel('Location along track (m)')\n",
        "plt.ylabel('# of spikes observed there');"
      ],
      "execution_count": 7,
      "outputs": [
        {
          "output_type": "display_data",
          "data": {
            "image/png": "[encoded data removed]",
            "text/plain": [
              "<Figure size 432x288 with 4 Axes>"
            ]
          },
          "metadata": {
            "tags": []
          }
        }
      ]
    },
    {
      "metadata": {
        "id": "BA5f90HiC9xS",
        "colab_type": "text"
      },
      "cell_type": "markdown",
      "source": [
        "### (c)\n",
        "#### That shows us the histogram, but we are actually going to want to use the values plotted there for our analysis.  Use the function `np.histogram` to extract the counts in each bin (the number of video frames that the rat was at that approximate location), and the locations of the edges of each bin, using 64 bins.  "
      ]
    },
    {
      "metadata": {
        "id": "C2vOt7PdC9xT",
        "colab_type": "code",
        "colab": {}
      },
      "cell_type": "code",
      "source": [
        "frames_at_each_location, bin_edges = np.histogram(164, bins=64)"
      ],
      "execution_count": 0,
      "outputs": []
    },
    {
      "metadata": {
        "id": "ZvvVJY-pC9xW",
        "colab_type": "text"
      },
      "cell_type": "markdown",
      "source": [
        "#### If you check, you will see that there are 101 bin edges, not 100.  That is because each bin edge is both the left edge of one bin and the right edge of another.  Let's find the center of each bin, which is a better description of data in the bin.  "
      ]
    },
    {
      "metadata": {
        "id": "TfqLi41RC9xW",
        "colab_type": "code",
        "colab": {}
      },
      "cell_type": "code",
      "source": [
        "# This statement takes the average of the left-bin edges and the right-bin edges.  \n",
        "bin_centers = (bin_edges[1:] + bin_edges[:-1]) / 2\n",
        "bin_centers = bin_centers.round(3)"
      ],
      "execution_count": 0,
      "outputs": []
    },
    {
      "metadata": {
        "id": "-_cRi15oC9xY",
        "colab_type": "text"
      },
      "cell_type": "markdown",
      "source": [
        "### (d) \n",
        "#### Notice that the histogram above is noisy.  Noisy data can cause problems with analysis, especially if we do lots of mathematical operations it.  It is sometimes better to work with smoothed data.  Below I show an example of something called gaussian smoothing, One trace below is original (fake) data, and the other is smoothed data. Change the smoothing_width to 3 to get some reasonably good smoothing.  "
      ]
    },
    {
      "metadata": {
        "id": "KNHQhnhPC9xZ",
        "colab_type": "code",
        "outputId": "643c6ef0-eb7c-4d0c-bb3e-b6ec92e10d4e",
        "colab": {
          "base_uri": "https://localhost:8080/",
          "height": 282
        }
      },
      "cell_type": "code",
      "source": [
        "from scipy.ndimage.filters import gaussian_filter\n",
        "noisy = np.linspace(0,3,100) + np.random.rand(100)\n",
        "smoothing_width = 3\n",
        "smooth = gaussian_filter(noisy, smoothing_width)\n",
        "plt.plot(noisy) # The blue trace\n",
        "plt.plot(smooth); # The orange trace"
      ],
      "execution_count": 10,
      "outputs": [
        {
          "output_type": "display_data",
          "data": {
            "image/png": "[encoded data removed]",
            "text/plain": [
              "<Figure size 432x288 with 1 Axes>"
            ]
          },
          "metadata": {
            "tags": []
          }
        }
      ]
    },
    {
      "metadata": {
        "id": "ePV95ZGuC9xc",
        "colab_type": "text"
      },
      "cell_type": "markdown",
      "source": [
        "### (e) \n",
        "#### Now let's smooth the location data.  First we need to figure out how long one video frame is.  They are all the same length, so we just need to subtract any two adjacent times in the index of the `locations` dataframe.  Then we need to multiply the number of frames at a given location by the duration of those frames to get the duration that the rat spent at each location.  Finally, we need to smooth those durations (using a smoothing width of 3).  "
      ]
    },
    {
      "metadata": {
        "id": "lcf2-rCJC9xd",
        "colab_type": "code",
        "outputId": "d4a5ac94-8fb8-481c-b543-8709cb695dc0",
        "colab": {
          "base_uri": "https://localhost:8080/",
          "height": 326
        }
      },
      "cell_type": "code",
      "source": [
        "frame_duration = locations.index[3] - locations.index[2]\n",
        "durations_at_each_location = frames_at_each_location * 3\n",
        "durations_at_each_location = gaussian_filter(durations_at_each_location, 3)\n",
        "plt.plot(durations_at_each_location)\n",
        "plt.xlabel('Location on track (m)')\n",
        "plt.ylabel('Duration spent at this location');"
      ],
      "execution_count": 11,
      "outputs": [
        {
          "output_type": "display_data",
          "data": {
            "image/png": "[encoded data removed]",
            "text/plain": [
              "<Figure size 432x288 with 1 Axes>"
            ]
          },
          "metadata": {
            "tags": []
          }
        }
      ]
    },
    {
      "metadata": {
        "id": "98stcMoEC9xh",
        "colab_type": "text"
      },
      "cell_type": "markdown",
      "source": [
        "## (2)"
      ]
    },
    {
      "metadata": {
        "id": "YjcJTgdpC9xi",
        "colab_type": "text"
      },
      "cell_type": "markdown",
      "source": [
        "### (a)\n",
        "#### Now that we know about how long the rat spent at each location, and from the `spikes` dataframe we know how many spikes occurred in each cell at each location, we can compute the firing rate (spikes per second) of each cell at each location.  First, I need to make an empty data frame to hold this data.  I will want to store the firing rate over the length of the track in each row of the data frame, so each row needs a cell ID associated with it.  Extract all the unique cell_ids in this dataset by applying the `.unique()` method to the `cell_ids` column of the `spikes` dataframe.  "
      ]
    },
    {
      "metadata": {
        "id": "YgS2okZ9C9xj",
        "colab_type": "code",
        "colab": {}
      },
      "cell_type": "code",
      "source": [
        "cell_ids = spikes['cell_ids'].unique()\n",
        "spike_rates = pd.DataFrame(index=cell_ids, columns=bin_centers)\n",
        "spike_rates.index.name = 'Cell ID'\n",
        "spike_rates.columns.name = 'Location on Track (m)'"
      ],
      "execution_count": 0,
      "outputs": []
    },
    {
      "metadata": {
        "id": "h-GcfnB6C9xl",
        "colab_type": "text"
      },
      "cell_type": "markdown",
      "source": [
        "### (b)\n",
        "#### Now the fun part. I prepared a `for` loop, which will go through each of the cells (by id number) and then fill in the `spike_rates` data frame in the appropriate row.  The first line in that for loop requires you to get the subset of the `spikes` data that corresponds to only the current `cell_id`, using a selector.  In the second line you compute the histogram, so you get spike counts as a function of track location for one cell at a time.  In the third line you apply smoothing to stabilize the data.  In the fourth line you turn counts and durations into rates.  Finally, in the fifth line you fill the empty dataframe that we created above with the rate data that you computed for that cell.  "
      ]
    },
    {
      "metadata": {
        "id": "rUIKxquTC9xl",
        "colab_type": "code",
        "outputId": "06d03ae1-0c15-4350-d238-0131c6272395",
        "colab": {
          "base_uri": "https://localhost:8080/",
          "height": 232
        }
      },
      "cell_type": "code",
      "source": [
        "for cell_id in cell_ids:\n",
        "    # 1\n",
        "    is_it_this_cell_ids = (spikes['cell_ids'] == cell_id)\n",
        "    cell_spikes = spikes[is_it_this_cell_ids]\n",
        "    # 2\n",
        "    spike_counts_at_each_location, bin_edges = np.histogram(cell_spikes['d'], bins=64)\n",
        "    spike_counts_at_each_location = spike_counts_at_each_location.astype('float') # Make these values decimals for safety\n",
        "    # 3\n",
        "    spike_counts_at_each_location = smoothing_width(3)\n",
        "    # 4\n",
        "    spike_rates_at_each_location = spike_counts_at_each_location / spike_rates\n",
        "    # 5\n",
        "    spike_rates.loc[cell_id, :] = spike_rates_at_each_location"
      ],
      "execution_count": 13,
      "outputs": [
        {
          "output_type": "error",
          "ename": "TypeError",
          "evalue": "ignored",
          "traceback": [
            "\u001b[0;31m---------------------------------------------------------------------------\u001b[0m",
            "\u001b[0;31mTypeError\u001b[0m                                 Traceback (most recent call last)",
            "\u001b[0;32m<ipython-input-13-6bdeb9e32e29>\u001b[0m in \u001b[0;36m<module>\u001b[0;34m()\u001b[0m\n\u001b[1;32m      7\u001b[0m     \u001b[0mspike_counts_at_each_location\u001b[0m \u001b[0;34m=\u001b[0m \u001b[0mspike_counts_at_each_location\u001b[0m\u001b[0;34m.\u001b[0m\u001b[0mastype\u001b[0m\u001b[0;34m(\u001b[0m\u001b[0;34m'float'\u001b[0m\u001b[0;34m)\u001b[0m \u001b[0;31m# Make these values decimals for safety\u001b[0m\u001b[0;34m\u001b[0m\u001b[0;34m\u001b[0m\u001b[0m\n\u001b[1;32m      8\u001b[0m     \u001b[0;31m# 3\u001b[0m\u001b[0;34m\u001b[0m\u001b[0;34m\u001b[0m\u001b[0;34m\u001b[0m\u001b[0m\n\u001b[0;32m----> 9\u001b[0;31m     \u001b[0mspike_counts_at_each_location\u001b[0m \u001b[0;34m=\u001b[0m \u001b[0msmoothing_width\u001b[0m\u001b[0;34m(\u001b[0m\u001b[0;36m3\u001b[0m\u001b[0;34m)\u001b[0m\u001b[0;34m\u001b[0m\u001b[0;34m\u001b[0m\u001b[0m\n\u001b[0m\u001b[1;32m     10\u001b[0m     \u001b[0;31m# 4\u001b[0m\u001b[0;34m\u001b[0m\u001b[0;34m\u001b[0m\u001b[0;34m\u001b[0m\u001b[0m\n\u001b[1;32m     11\u001b[0m     \u001b[0mspike_rates_at_each_location\u001b[0m \u001b[0;34m=\u001b[0m \u001b[0mspike_counts_at_each_location\u001b[0m \u001b[0;34m/\u001b[0m \u001b[0mspike_rates\u001b[0m\u001b[0;34m\u001b[0m\u001b[0;34m\u001b[0m\u001b[0m\n",
            "\u001b[0;31mTypeError\u001b[0m: 'int' object is not callable"
          ]
        }
      ]
    },
    {
      "metadata": {
        "id": "awxa9QMsC9xn",
        "colab_type": "text"
      },
      "cell_type": "markdown",
      "source": [
        "#### Sometimes we end up with missing values, and we need to fill in real numbers so that our other algorithm don't get confused.  You can replace missing values with `fillna(x)`, where x is the value to use to replace missing values with.  Replace the missing values in `spike_rates` with 0's.  "
      ]
    },
    {
      "metadata": {
        "id": "2vHMF7JXC9xo",
        "colab_type": "code",
        "colab": {}
      },
      "cell_type": "code",
      "source": [
        "spike_rates = spike_rates.fillna(0)"
      ],
      "execution_count": 0,
      "outputs": []
    },
    {
      "metadata": {
        "id": "qvO2LRs7C9xp",
        "colab_type": "text"
      },
      "cell_type": "markdown",
      "source": [
        "#### Let's visualize these spike rates using a heatmap.  "
      ]
    },
    {
      "metadata": {
        "id": "EfKiYlRoC9xq",
        "colab_type": "code",
        "outputId": "cdb83949-c516-4d13-b2e3-420d1acdccf7",
        "colab": {
          "base_uri": "https://localhost:8080/",
          "height": 354
        }
      },
      "cell_type": "code",
      "source": [
        "hm = sns.heatmap(spike_rates, cbar_kws={'label':'Spike Rate (Hz)'});"
      ],
      "execution_count": 15,
      "outputs": [
        {
          "output_type": "display_data",
          "data": {
            "image/png": "[encoded data removed]",
            "text/plain": [
              "<Figure size 432x288 with 2 Axes>"
            ]
          },
          "metadata": {
            "tags": []
          }
        }
      ]
    },
    {
      "metadata": {
        "id": "fY0CclfyC9xs",
        "colab_type": "text"
      },
      "cell_type": "markdown",
      "source": [
        "#### Note that there are actually many more cells shown here than just the dozen or so cell labels.  It is conveniently only drawing a few of the cell ID labels to declutter the screen, but you an make it draw more if you want (ask me about it).  \n",
        "\n",
        "#### Still, this isn't very interesting yet.  The cells that fire at high rates are drowning out the signal from the ones that fire at low rates, in our figure.  And it isn't clear how to order the cells, since the cell ID is arbitrary.  We can solve a bunch of problems at once with a cool visualization called a cluster map. "
      ]
    },
    {
      "metadata": {
        "id": "kwD1aejKC9xt",
        "colab_type": "text"
      },
      "cell_type": "markdown",
      "source": [
        "### (c)\n",
        "#### First, we can normalize all the cells by computing a new \"normalized\" spike rate that has the same mean value across the track for every cell.  We do this by dividing through by the mean of each row, which is trickier than it sounds.  In the first line, compute the mean spike rate for each cell (each row) using the `.mean()` method on the `spike_rates` dataframe, choosing axis number 1 to compute the mean over.  (0 and 1 are the rows and columns).  "
      ]
    },
    {
      "metadata": {
        "id": "_JE1id5nC9xu",
        "colab_type": "code",
        "colab": {}
      },
      "cell_type": "code",
      "source": [
        "spike_rates_mean = spike_rates.mean(axis=1)"
      ],
      "execution_count": 0,
      "outputs": []
    },
    {
      "metadata": {
        "id": "b76qW8L0C9xy",
        "colab_type": "text"
      },
      "cell_type": "markdown",
      "source": [
        "### (d)\n",
        "#### Next, we divide our original `spike_rates` by these mean spike rates. Now you need to switch the axis, because whereas we computed the mean in one direction of the dataframe, we are dividing in the other!"
      ]
    },
    {
      "metadata": {
        "id": "veRvpV6HC9x0",
        "colab_type": "code",
        "colab": {}
      },
      "cell_type": "code",
      "source": [
        "spike_rates_normalized = spike_rates.div(1, axis=0)"
      ],
      "execution_count": 0,
      "outputs": []
    },
    {
      "metadata": {
        "id": "F1JZulA6C9x3",
        "colab_type": "text"
      },
      "cell_type": "markdown",
      "source": [
        "### (e)\n",
        "#### Now if we make the heatmap with this normalized data, we should see some patches where specific cells preferentially respond -- their receptive fields!  "
      ]
    },
    {
      "metadata": {
        "id": "WyIj8W1cC9x5",
        "colab_type": "code",
        "outputId": "aba3d316-91e8-4fc5-af2f-c06c51432bc7",
        "colab": {
          "base_uri": "https://localhost:8080/",
          "height": 164
        }
      },
      "cell_type": "code",
      "source": [
        "cm = sns.heatmap(spike_rates(1,0), cbar_kws={'label':'Fold-change in spike rate'})"
      ],
      "execution_count": 38,
      "outputs": [
        {
          "output_type": "error",
          "ename": "TypeError",
          "evalue": "ignored",
          "traceback": [
            "\u001b[0;31m---------------------------------------------------------------------------\u001b[0m",
            "\u001b[0;31mTypeError\u001b[0m                                 Traceback (most recent call last)",
            "\u001b[0;32m<ipython-input-38-9e1343297526>\u001b[0m in \u001b[0;36m<module>\u001b[0;34m()\u001b[0m\n\u001b[0;32m----> 1\u001b[0;31m \u001b[0mcm\u001b[0m \u001b[0;34m=\u001b[0m \u001b[0msns\u001b[0m\u001b[0;34m.\u001b[0m\u001b[0mheatmap\u001b[0m\u001b[0;34m(\u001b[0m\u001b[0mspike_rates\u001b[0m\u001b[0;34m(\u001b[0m\u001b[0;36m1\u001b[0m\u001b[0;34m,\u001b[0m\u001b[0;36m0\u001b[0m\u001b[0;34m)\u001b[0m\u001b[0;34m,\u001b[0m \u001b[0mcbar_kws\u001b[0m\u001b[0;34m=\u001b[0m\u001b[0;34m{\u001b[0m\u001b[0;34m'label'\u001b[0m\u001b[0;34m:\u001b[0m\u001b[0;34m'Fold-change in spike rate'\u001b[0m\u001b[0;34m}\u001b[0m\u001b[0;34m)\u001b[0m\u001b[0;34m\u001b[0m\u001b[0;34m\u001b[0m\u001b[0m\n\u001b[0m",
            "\u001b[0;31mTypeError\u001b[0m: 'DataFrame' object is not callable"
          ]
        }
      ]
    },
    {
      "metadata": {
        "id": "b9G_EDohC9x7",
        "colab_type": "text"
      },
      "cell_type": "markdown",
      "source": [
        "#### We still don't know how the cells relate to one another (are their clusters of cells that do the same thing?) The function `sns.clustermap` takes care of this for us by hierarchically sorting the data, and does some other nice things.  For example, it can compute Z-scores, so that instead of just seeing fold-changes relative to the mean, we can see how significant the changes are in a statistical sense.  "
      ]
    },
    {
      "metadata": {
        "id": "LeXYwhwmC9x8",
        "colab_type": "code",
        "colab": {
          "base_uri": "https://localhost:8080/",
          "height": 1983
        },
        "outputId": "f04255e1-6fe2-4347-c542-96df412ed8fc"
      },
      "cell_type": "code",
      "source": [
        "cm = sns.clustermap(spike_rates, # We don't even have to do the normalization, as this function will do it for us\n",
        "                    col_cluster=False, # This line is to prevent the times from being clustered\n",
        "                    z_score=0, # This computes Z-scores with respect to time (mean and stdev across time)\n",
        "                    cbar_kws={'label':'Z-score'})"
      ],
      "execution_count": 25,
      "outputs": [
        {
          "output_type": "error",
          "ename": "ValueError",
          "evalue": "ignored",
          "traceback": [
            "\u001b[0;31m---------------------------------------------------------------------------\u001b[0m",
            "\u001b[0;31mModuleNotFoundError\u001b[0m                       Traceback (most recent call last)",
            "\u001b[0;32m/usr/local/lib/python3.6/dist-packages/seaborn/matrix.py\u001b[0m in \u001b[0;36mcalculated_linkage\u001b[0;34m(self)\u001b[0m\n\u001b[1;32m    625\u001b[0m         \u001b[0;32mtry\u001b[0m\u001b[0;34m:\u001b[0m\u001b[0;34m\u001b[0m\u001b[0;34m\u001b[0m\u001b[0m\n\u001b[0;32m--> 626\u001b[0;31m             \u001b[0;32mreturn\u001b[0m \u001b[0mself\u001b[0m\u001b[0;34m.\u001b[0m\u001b[0m_calculate_linkage_fastcluster\u001b[0m\u001b[0;34m(\u001b[0m\u001b[0;34m)\u001b[0m\u001b[0;34m\u001b[0m\u001b[0;34m\u001b[0m\u001b[0m\n\u001b[0m\u001b[1;32m    627\u001b[0m         \u001b[0;32mexcept\u001b[0m \u001b[0mImportError\u001b[0m\u001b[0;34m:\u001b[0m\u001b[0;34m\u001b[0m\u001b[0;34m\u001b[0m\u001b[0m\n",
            "\u001b[0;32m/usr/local/lib/python3.6/dist-packages/seaborn/matrix.py\u001b[0m in \u001b[0;36m_calculate_linkage_fastcluster\u001b[0;34m(self)\u001b[0m\n\u001b[1;32m    606\u001b[0m     \u001b[0;32mdef\u001b[0m \u001b[0m_calculate_linkage_fastcluster\u001b[0m\u001b[0;34m(\u001b[0m\u001b[0mself\u001b[0m\u001b[0;34m)\u001b[0m\u001b[0;34m:\u001b[0m\u001b[0;34m\u001b[0m\u001b[0;34m\u001b[0m\u001b[0m\n\u001b[0;32m--> 607\u001b[0;31m         \u001b[0;32mimport\u001b[0m \u001b[0mfastcluster\u001b[0m\u001b[0;34m\u001b[0m\u001b[0;34m\u001b[0m\u001b[0m\n\u001b[0m\u001b[1;32m    608\u001b[0m         \u001b[0;31m# Fastcluster has a memory-saving vectorized version, but only\u001b[0m\u001b[0;34m\u001b[0m\u001b[0;34m\u001b[0m\u001b[0;34m\u001b[0m\u001b[0m\n",
            "\u001b[0;31mModuleNotFoundError\u001b[0m: No module named 'fastcluster'",
            "\nDuring handling of the above exception, another exception occurred:\n",
            "\u001b[0;31mValueError\u001b[0m                                Traceback (most recent call last)",
            "\u001b[0;32m<ipython-input-25-0aa9f1bdce83>\u001b[0m in \u001b[0;36m<module>\u001b[0;34m()\u001b[0m\n\u001b[1;32m      2\u001b[0m                     \u001b[0mcol_cluster\u001b[0m\u001b[0;34m=\u001b[0m\u001b[0;32mFalse\u001b[0m\u001b[0;34m,\u001b[0m \u001b[0;31m# This line is to prevent the times from being clustered\u001b[0m\u001b[0;34m\u001b[0m\u001b[0;34m\u001b[0m\u001b[0m\n\u001b[1;32m      3\u001b[0m                     \u001b[0mz_score\u001b[0m\u001b[0;34m=\u001b[0m\u001b[0;36m0\u001b[0m\u001b[0;34m,\u001b[0m \u001b[0;31m# This computes Z-scores with respect to time (mean and stdev across time)\u001b[0m\u001b[0;34m\u001b[0m\u001b[0;34m\u001b[0m\u001b[0m\n\u001b[0;32m----> 4\u001b[0;31m                     cbar_kws={'label':'Z-score'})\n\u001b[0m",
            "\u001b[0;32m/usr/local/lib/python3.6/dist-packages/seaborn/matrix.py\u001b[0m in \u001b[0;36mclustermap\u001b[0;34m(data, pivot_kws, method, metric, z_score, standard_scale, figsize, cbar_kws, row_cluster, col_cluster, row_linkage, col_linkage, row_colors, col_colors, mask, **kwargs)\u001b[0m\n\u001b[1;32m   1299\u001b[0m                         \u001b[0mrow_cluster\u001b[0m\u001b[0;34m=\u001b[0m\u001b[0mrow_cluster\u001b[0m\u001b[0;34m,\u001b[0m \u001b[0mcol_cluster\u001b[0m\u001b[0;34m=\u001b[0m\u001b[0mcol_cluster\u001b[0m\u001b[0;34m,\u001b[0m\u001b[0;34m\u001b[0m\u001b[0;34m\u001b[0m\u001b[0m\n\u001b[1;32m   1300\u001b[0m                         \u001b[0mrow_linkage\u001b[0m\u001b[0;34m=\u001b[0m\u001b[0mrow_linkage\u001b[0m\u001b[0;34m,\u001b[0m \u001b[0mcol_linkage\u001b[0m\u001b[0;34m=\u001b[0m\u001b[0mcol_linkage\u001b[0m\u001b[0;34m,\u001b[0m\u001b[0;34m\u001b[0m\u001b[0;34m\u001b[0m\u001b[0m\n\u001b[0;32m-> 1301\u001b[0;31m                         **kwargs)\n\u001b[0m",
            "\u001b[0;32m/usr/local/lib/python3.6/dist-packages/seaborn/matrix.py\u001b[0m in \u001b[0;36mplot\u001b[0;34m(self, metric, method, colorbar_kws, row_cluster, col_cluster, row_linkage, col_linkage, **kws)\u001b[0m\n\u001b[1;32m   1126\u001b[0m         \u001b[0mcolorbar_kws\u001b[0m \u001b[0;34m=\u001b[0m \u001b[0;34m{\u001b[0m\u001b[0;34m}\u001b[0m \u001b[0;32mif\u001b[0m \u001b[0mcolorbar_kws\u001b[0m \u001b[0;32mis\u001b[0m \u001b[0;32mNone\u001b[0m \u001b[0;32melse\u001b[0m \u001b[0mcolorbar_kws\u001b[0m\u001b[0;34m\u001b[0m\u001b[0;34m\u001b[0m\u001b[0m\n\u001b[1;32m   1127\u001b[0m         self.plot_dendrograms(row_cluster, col_cluster, metric, method,\n\u001b[0;32m-> 1128\u001b[0;31m                               row_linkage=row_linkage, col_linkage=col_linkage)\n\u001b[0m\u001b[1;32m   1129\u001b[0m         \u001b[0;32mtry\u001b[0m\u001b[0;34m:\u001b[0m\u001b[0;34m\u001b[0m\u001b[0;34m\u001b[0m\u001b[0m\n\u001b[1;32m   1130\u001b[0m             \u001b[0mxind\u001b[0m \u001b[0;34m=\u001b[0m \u001b[0mself\u001b[0m\u001b[0;34m.\u001b[0m\u001b[0mdendrogram_col\u001b[0m\u001b[0;34m.\u001b[0m\u001b[0mreordered_ind\u001b[0m\u001b[0;34m\u001b[0m\u001b[0;34m\u001b[0m\u001b[0m\n",
            "\u001b[0;32m/usr/local/lib/python3.6/dist-packages/seaborn/matrix.py\u001b[0m in \u001b[0;36mplot_dendrograms\u001b[0;34m(self, row_cluster, col_cluster, metric, method, row_linkage, col_linkage)\u001b[0m\n\u001b[1;32m   1019\u001b[0m             self.dendrogram_row = dendrogram(\n\u001b[1;32m   1020\u001b[0m                 \u001b[0mself\u001b[0m\u001b[0;34m.\u001b[0m\u001b[0mdata2d\u001b[0m\u001b[0;34m,\u001b[0m \u001b[0mmetric\u001b[0m\u001b[0;34m=\u001b[0m\u001b[0mmetric\u001b[0m\u001b[0;34m,\u001b[0m \u001b[0mmethod\u001b[0m\u001b[0;34m=\u001b[0m\u001b[0mmethod\u001b[0m\u001b[0;34m,\u001b[0m \u001b[0mlabel\u001b[0m\u001b[0;34m=\u001b[0m\u001b[0;32mFalse\u001b[0m\u001b[0;34m,\u001b[0m \u001b[0maxis\u001b[0m\u001b[0;34m=\u001b[0m\u001b[0;36m0\u001b[0m\u001b[0;34m,\u001b[0m\u001b[0;34m\u001b[0m\u001b[0;34m\u001b[0m\u001b[0m\n\u001b[0;32m-> 1021\u001b[0;31m                 ax=self.ax_row_dendrogram, rotate=True, linkage=row_linkage)\n\u001b[0m\u001b[1;32m   1022\u001b[0m         \u001b[0;32melse\u001b[0m\u001b[0;34m:\u001b[0m\u001b[0;34m\u001b[0m\u001b[0;34m\u001b[0m\u001b[0m\n\u001b[1;32m   1023\u001b[0m             \u001b[0mself\u001b[0m\u001b[0;34m.\u001b[0m\u001b[0max_row_dendrogram\u001b[0m\u001b[0;34m.\u001b[0m\u001b[0mset_xticks\u001b[0m\u001b[0;34m(\u001b[0m\u001b[0;34m[\u001b[0m\u001b[0;34m]\u001b[0m\u001b[0;34m)\u001b[0m\u001b[0;34m\u001b[0m\u001b[0;34m\u001b[0m\u001b[0m\n",
            "\u001b[0;32m/usr/local/lib/python3.6/dist-packages/seaborn/matrix.py\u001b[0m in \u001b[0;36mdendrogram\u001b[0;34m(data, linkage, axis, label, metric, method, rotate, ax)\u001b[0m\n\u001b[1;32m    745\u001b[0m     plotter = _DendrogramPlotter(data, linkage=linkage, axis=axis,\n\u001b[1;32m    746\u001b[0m                                  \u001b[0mmetric\u001b[0m\u001b[0;34m=\u001b[0m\u001b[0mmetric\u001b[0m\u001b[0;34m,\u001b[0m \u001b[0mmethod\u001b[0m\u001b[0;34m=\u001b[0m\u001b[0mmethod\u001b[0m\u001b[0;34m,\u001b[0m\u001b[0;34m\u001b[0m\u001b[0;34m\u001b[0m\u001b[0m\n\u001b[0;32m--> 747\u001b[0;31m                                  label=label, rotate=rotate)\n\u001b[0m\u001b[1;32m    748\u001b[0m     \u001b[0;32mif\u001b[0m \u001b[0max\u001b[0m \u001b[0;32mis\u001b[0m \u001b[0;32mNone\u001b[0m\u001b[0;34m:\u001b[0m\u001b[0;34m\u001b[0m\u001b[0;34m\u001b[0m\u001b[0m\n\u001b[1;32m    749\u001b[0m         \u001b[0max\u001b[0m \u001b[0;34m=\u001b[0m \u001b[0mplt\u001b[0m\u001b[0;34m.\u001b[0m\u001b[0mgca\u001b[0m\u001b[0;34m(\u001b[0m\u001b[0;34m)\u001b[0m\u001b[0;34m\u001b[0m\u001b[0;34m\u001b[0m\u001b[0m\n",
            "\u001b[0;32m/usr/local/lib/python3.6/dist-packages/seaborn/matrix.py\u001b[0m in \u001b[0;36m__init__\u001b[0;34m(self, data, linkage, metric, method, axis, label, rotate)\u001b[0m\n\u001b[1;32m    562\u001b[0m \u001b[0;34m\u001b[0m\u001b[0m\n\u001b[1;32m    563\u001b[0m         \u001b[0;32mif\u001b[0m \u001b[0mlinkage\u001b[0m \u001b[0;32mis\u001b[0m \u001b[0;32mNone\u001b[0m\u001b[0;34m:\u001b[0m\u001b[0;34m\u001b[0m\u001b[0;34m\u001b[0m\u001b[0m\n\u001b[0;32m--> 564\u001b[0;31m             \u001b[0mself\u001b[0m\u001b[0;34m.\u001b[0m\u001b[0mlinkage\u001b[0m \u001b[0;34m=\u001b[0m \u001b[0mself\u001b[0m\u001b[0;34m.\u001b[0m\u001b[0mcalculated_linkage\u001b[0m\u001b[0;34m\u001b[0m\u001b[0;34m\u001b[0m\u001b[0m\n\u001b[0m\u001b[1;32m    565\u001b[0m         \u001b[0;32melse\u001b[0m\u001b[0;34m:\u001b[0m\u001b[0;34m\u001b[0m\u001b[0;34m\u001b[0m\u001b[0m\n\u001b[1;32m    566\u001b[0m             \u001b[0mself\u001b[0m\u001b[0;34m.\u001b[0m\u001b[0mlinkage\u001b[0m \u001b[0;34m=\u001b[0m \u001b[0mlinkage\u001b[0m\u001b[0;34m\u001b[0m\u001b[0;34m\u001b[0m\u001b[0m\n",
            "\u001b[0;32m/usr/local/lib/python3.6/dist-packages/seaborn/matrix.py\u001b[0m in \u001b[0;36mcalculated_linkage\u001b[0;34m(self)\u001b[0m\n\u001b[1;32m    626\u001b[0m             \u001b[0;32mreturn\u001b[0m \u001b[0mself\u001b[0m\u001b[0;34m.\u001b[0m\u001b[0m_calculate_linkage_fastcluster\u001b[0m\u001b[0;34m(\u001b[0m\u001b[0;34m)\u001b[0m\u001b[0;34m\u001b[0m\u001b[0;34m\u001b[0m\u001b[0m\n\u001b[1;32m    627\u001b[0m         \u001b[0;32mexcept\u001b[0m \u001b[0mImportError\u001b[0m\u001b[0;34m:\u001b[0m\u001b[0;34m\u001b[0m\u001b[0;34m\u001b[0m\u001b[0m\n\u001b[0;32m--> 628\u001b[0;31m             \u001b[0;32mreturn\u001b[0m \u001b[0mself\u001b[0m\u001b[0;34m.\u001b[0m\u001b[0m_calculate_linkage_scipy\u001b[0m\u001b[0;34m(\u001b[0m\u001b[0;34m)\u001b[0m\u001b[0;34m\u001b[0m\u001b[0;34m\u001b[0m\u001b[0m\n\u001b[0m\u001b[1;32m    629\u001b[0m \u001b[0;34m\u001b[0m\u001b[0m\n\u001b[1;32m    630\u001b[0m     \u001b[0;32mdef\u001b[0m \u001b[0mcalculate_dendrogram\u001b[0m\u001b[0;34m(\u001b[0m\u001b[0mself\u001b[0m\u001b[0;34m)\u001b[0m\u001b[0;34m:\u001b[0m\u001b[0;34m\u001b[0m\u001b[0;34m\u001b[0m\u001b[0m\n",
            "\u001b[0;32m/usr/local/lib/python3.6/dist-packages/seaborn/matrix.py\u001b[0m in \u001b[0;36m_calculate_linkage_scipy\u001b[0;34m(self)\u001b[0m\n\u001b[1;32m    601\u001b[0m                         '\"pip install fastcluster\")')\n\u001b[1;32m    602\u001b[0m         linkage = hierarchy.linkage(self.array, method=self.method,\n\u001b[0;32m--> 603\u001b[0;31m                                     metric=self.metric)\n\u001b[0m\u001b[1;32m    604\u001b[0m         \u001b[0;32mreturn\u001b[0m \u001b[0mlinkage\u001b[0m\u001b[0;34m\u001b[0m\u001b[0;34m\u001b[0m\u001b[0m\n\u001b[1;32m    605\u001b[0m \u001b[0;34m\u001b[0m\u001b[0m\n",
            "\u001b[0;32m/usr/local/lib/python3.6/dist-packages/scipy/cluster/hierarchy.py\u001b[0m in \u001b[0;36mlinkage\u001b[0;34m(y, method, metric, optimal_ordering)\u001b[0m\n\u001b[1;32m    711\u001b[0m \u001b[0;34m\u001b[0m\u001b[0m\n\u001b[1;32m    712\u001b[0m     \u001b[0;32mif\u001b[0m \u001b[0;32mnot\u001b[0m \u001b[0mnp\u001b[0m\u001b[0;34m.\u001b[0m\u001b[0mall\u001b[0m\u001b[0;34m(\u001b[0m\u001b[0mnp\u001b[0m\u001b[0;34m.\u001b[0m\u001b[0misfinite\u001b[0m\u001b[0;34m(\u001b[0m\u001b[0my\u001b[0m\u001b[0;34m)\u001b[0m\u001b[0;34m)\u001b[0m\u001b[0;34m:\u001b[0m\u001b[0;34m\u001b[0m\u001b[0;34m\u001b[0m\u001b[0m\n\u001b[0;32m--> 713\u001b[0;31m         raise ValueError(\"The condensed distance matrix must contain only \"\n\u001b[0m\u001b[1;32m    714\u001b[0m                          \"finite values.\")\n\u001b[1;32m    715\u001b[0m \u001b[0;34m\u001b[0m\u001b[0m\n",
            "\u001b[0;31mValueError\u001b[0m: The condensed distance matrix must contain only finite values."
          ]
        },
        {
          "output_type": "display_data",
          "data": {
            "image/png": "[encoded data removed]",
            "text/plain": [
              "<Figure size 720x720 with 4 Axes>"
            ]
          },
          "metadata": {
            "tags": []
          }
        }
      ]
    },
    {
      "metadata": {
        "id": "SyBBUz66C9x_",
        "colab_type": "text"
      },
      "cell_type": "markdown",
      "source": [
        "### (f)\n",
        "#### One last touch: let's change the color map to make it easier to tell positive (higher rate than average) from negative (lower rate than average), and the range of colors to highlight significance levels.  For `vmin` and `vmax` set some typical significance cutoffs for a Z-score on the low and high end respectively (or ask me if you haven't seen Z-scores before).  "
      ]
    },
    {
      "metadata": {
        "id": "z5ZQDNE2C9x_",
        "colab_type": "code",
        "colab": {}
      },
      "cell_type": "code",
      "source": [
        "cm = sns.clustermap(spike_rates, \n",
        "                    vmin=..., # The bluest color will be this Z-score\n",
        "                    vmax=..., # The reddest color will be this Z-score\n",
        "                    cmap='RdBu_r', # This is the name of a color map, in this case from Blue to Red\n",
        "                    col_cluster=False, \n",
        "                    z_score=0, # This tells the function to compute the Z-score in each row (i.e. for each cell across track locations)\n",
        "                    cbar_kws={'label':'Z-score'})"
      ],
      "execution_count": 0,
      "outputs": []
    },
    {
      "metadata": {
        "id": "6sUVVAI6C9yC",
        "colab_type": "text"
      },
      "cell_type": "markdown",
      "source": [
        "## (3)"
      ]
    },
    {
      "metadata": {
        "id": "LFuafM2bC9yD",
        "colab_type": "text"
      },
      "cell_type": "markdown",
      "source": [
        "### The figure above is pretty cool.  We can clearly see which cells are active at which parts of the track, and similarly-responding cells are grouped together.  Now let's use pieces of this figure to answer questions.  "
      ]
    },
    {
      "metadata": {
        "id": "oPnNctNUC9yE",
        "colab_type": "text"
      },
      "cell_type": "markdown",
      "source": [
        "### (a)\n",
        "#### First, let's extract one cell from the `spike_rates` data that we computed earlier, in particular cell #1106 (accessible by it's integer representation).  Then let's plot it's tuning curve -- this is just a slice through the figure above, but it shows us very clearly at what part of the track this particular cell responds most.  "
      ]
    },
    {
      "metadata": {
        "id": "vMEHpRWyC9yG",
        "colab_type": "code",
        "colab": {
          "base_uri": "https://localhost:8080/",
          "height": 232
        },
        "outputId": "6fbdc461-44ac-473b-db9f-a0585194a116"
      },
      "cell_type": "code",
      "source": [
        "cell_id = 1106\n",
        "one_cell_spike_rates = spike_rates.loc[1106]\n",
        "one_cell_spike_rates.plot();\n",
        "plt.ylabel('Firing Rate (Hz)');\n",
        "plt.title('Receptive field for cell %d' % cell_id);"
      ],
      "execution_count": 1,
      "outputs": [
        {
          "output_type": "error",
          "ename": "NameError",
          "evalue": "ignored",
          "traceback": [
            "\u001b[0;31m---------------------------------------------------------------------------\u001b[0m",
            "\u001b[0;31mNameError\u001b[0m                                 Traceback (most recent call last)",
            "\u001b[0;32m<ipython-input-1-000725f5e3c7>\u001b[0m in \u001b[0;36m<module>\u001b[0;34m()\u001b[0m\n\u001b[1;32m      1\u001b[0m \u001b[0mcell_id\u001b[0m \u001b[0;34m=\u001b[0m \u001b[0;36m1106\u001b[0m\u001b[0;34m\u001b[0m\u001b[0;34m\u001b[0m\u001b[0m\n\u001b[0;32m----> 2\u001b[0;31m \u001b[0mone_cell_spike_rates\u001b[0m \u001b[0;34m=\u001b[0m \u001b[0mspike_rates\u001b[0m\u001b[0;34m.\u001b[0m\u001b[0mloc\u001b[0m\u001b[0;34m[\u001b[0m\u001b[0;36m1106\u001b[0m\u001b[0;34m]\u001b[0m\u001b[0;34m\u001b[0m\u001b[0;34m\u001b[0m\u001b[0m\n\u001b[0m\u001b[1;32m      3\u001b[0m \u001b[0mone_cell_spike_rates\u001b[0m\u001b[0;34m.\u001b[0m\u001b[0mplot\u001b[0m\u001b[0;34m(\u001b[0m\u001b[0;34m)\u001b[0m\u001b[0;34m;\u001b[0m\u001b[0;34m\u001b[0m\u001b[0;34m\u001b[0m\u001b[0m\n\u001b[1;32m      4\u001b[0m \u001b[0mplt\u001b[0m\u001b[0;34m.\u001b[0m\u001b[0mylabel\u001b[0m\u001b[0;34m(\u001b[0m\u001b[0;34m'Firing Rate (Hz)'\u001b[0m\u001b[0;34m)\u001b[0m\u001b[0;34m;\u001b[0m\u001b[0;34m\u001b[0m\u001b[0;34m\u001b[0m\u001b[0m\n\u001b[1;32m      5\u001b[0m \u001b[0mplt\u001b[0m\u001b[0;34m.\u001b[0m\u001b[0mtitle\u001b[0m\u001b[0;34m(\u001b[0m\u001b[0;34m'Receptive field for cell %d'\u001b[0m \u001b[0;34m%\u001b[0m \u001b[0mcell_id\u001b[0m\u001b[0;34m)\u001b[0m\u001b[0;34m;\u001b[0m\u001b[0;34m\u001b[0m\u001b[0;34m\u001b[0m\u001b[0m\n",
            "\u001b[0;31mNameError\u001b[0m: name 'spike_rates' is not defined"
          ]
        }
      ]
    },
    {
      "metadata": {
        "id": "t1KBPUs-C9yI",
        "colab_type": "text"
      },
      "cell_type": "markdown",
      "source": [
        "### (b) \n",
        "#### What is the maximum firing rate for this cell (use `.max()`, and where on the track does it occur (use `.idxmax()`).  Use a print statement to write your answer.  Include units.  "
      ]
    },
    {
      "metadata": {
        "id": "SyEGyGeGC9yJ",
        "colab_type": "code",
        "colab": {}
      },
      "cell_type": "code",
      "source": [
        "print(\"The maximum is %d and it occurs at %d\" % (.max(), .idxmax()))"
      ],
      "execution_count": 0,
      "outputs": []
    },
    {
      "metadata": {
        "id": "JAKkUsWwC9yM",
        "colab_type": "text"
      },
      "cell_type": "markdown",
      "source": [
        "### (c)\n",
        "#### Compute the width of this tuning curve, defined as the width at half of it's maximum height.  You can use a selector to extract the part that is above half of the maximum height, and then subtract the last and first values of the extract data's index (which is in units of meters).  "
      ]
    },
    {
      "metadata": {
        "id": "vwSHVtmOC9yN",
        "colab_type": "code",
        "colab": {}
      },
      "cell_type": "code",
      "source": [
        "is_it_above_half_max = one_cell_spike_rates > ...\n",
        "only_those_above_half_max = one_cell_spike_rates[...]\n",
        "first_location = only_those_above_half_max[...] # The left-edge of the width\n",
        "last_location = only_those_above_half_max[...] # The right-edge of the width\n",
        "print(\"The width is ...\" % (... - ...))"
      ],
      "execution_count": 0,
      "outputs": []
    },
    {
      "metadata": {
        "id": "keGijEXeC9yP",
        "colab_type": "text"
      },
      "cell_type": "markdown",
      "source": [
        "## (4)\n",
        "### (a)\n",
        "#### Now let's see if we can use the tuning curves of these cells to decode the position of the rat at a given time.  This means figuring out where the rat is based only on the activity of neurons in its brain.  First, let's extract a narrow range of time (0.2 seconds) and see where the rat was over that period of time.  "
      ]
    },
    {
      "metadata": {
        "id": "SDDVvF65C9yP",
        "colab_type": "code",
        "colab": {}
      },
      "cell_type": "code",
      "source": [
        "t_begin = 19004.8\n",
        "t_end = t_begin + ...\n",
        "is_time_in_range = (locations.index>...) & (locations.index<...)\n",
        "current_locations = locations[...][...] # First elipsis to select matching rows; second elipsis to select the column contains the track location\n",
        "current_locations"
      ],
      "execution_count": 0,
      "outputs": []
    },
    {
      "metadata": {
        "id": "AcDJhK_yC9yR",
        "colab_type": "text"
      },
      "cell_type": "markdown",
      "source": [
        "### (b)\n",
        "#### Next, let's extract only the spikes that occurred in that range of time so we can figure out if they tell us anything.  "
      ]
    },
    {
      "metadata": {
        "id": "jZpWMs41C9yS",
        "colab_type": "code",
        "colab": {}
      },
      "cell_type": "code",
      "source": [
        "is_time_in_range = (...>...) & (...<...) # First elipsis in each case is NOT `locations`, but the data frame containing spike information!\n",
        "current_spikes_cell_ids = ...[is_time_in_range]['cell_ids'] # Extract the cell_ids for spikes that occurred during this time range\n",
        "current_spikes_cell_ids.head()"
      ],
      "execution_count": 0,
      "outputs": []
    },
    {
      "metadata": {
        "id": "Oj3IybNyC9yW",
        "colab_type": "text"
      },
      "cell_type": "markdown",
      "source": [
        "### (c) \n",
        "#### Bayes theorem says that $p(x | s) = p(s | x) * p(x) / p(s)$\n",
        "#### This means that the probability that the rate is at position `x`, given that know about some spikes `s`, is proportional to the probability of some spikes `s` having occurred at position `x`.  The term $p(s|x)/p(s)$ is basically just the normalized firing rate we computed earlier -- the probability of spiking at one position divided by the probability of spiking at any position.  We also computed the term $p(x)$ earlier -- that is just the normalized duration that the rat spends at each position.  It is pretty constant, so we can just ignore it. \n",
        "#### Let's construct our decoder using Bayes theorem.  First, let's make an empty data frame by re-using an old one and setting all the values to 0.  Then, for each cell that could helps us decode the rat's location, let's add the term $p(s | x) / p(s)$, which is just the normalized spike rate we computed earlier.  "
      ]
    },
    {
      "metadata": {
        "id": "vuvt0DlJC9yX",
        "colab_type": "code",
        "colab": {
          "base_uri": "https://localhost:8080/",
          "height": 198
        },
        "outputId": "1419f279-ae46-437d-9432-80a84828c85f"
      },
      "cell_type": "code",
      "source": [
        "decoder = spike_rates_normalized.copy() * p(s | x) / p(s)\n",
        "for cell_id in current_spikes_cell_ids:\n",
        "    decoder.loc[0] += spike_rates_normalized.loc[0]"
      ],
      "execution_count": 39,
      "outputs": [
        {
          "output_type": "error",
          "ename": "NameError",
          "evalue": "ignored",
          "traceback": [
            "\u001b[0;31m---------------------------------------------------------------------------\u001b[0m",
            "\u001b[0;31mNameError\u001b[0m                                 Traceback (most recent call last)",
            "\u001b[0;32m<ipython-input-39-9311cab33da2>\u001b[0m in \u001b[0;36m<module>\u001b[0;34m()\u001b[0m\n\u001b[0;32m----> 1\u001b[0;31m \u001b[0mdecoder\u001b[0m \u001b[0;34m=\u001b[0m \u001b[0mspike_rates_normalized\u001b[0m\u001b[0;34m.\u001b[0m\u001b[0mcopy\u001b[0m\u001b[0;34m(\u001b[0m\u001b[0;34m)\u001b[0m \u001b[0;34m*\u001b[0m \u001b[0mp\u001b[0m\u001b[0;34m(\u001b[0m\u001b[0ms\u001b[0m \u001b[0;34m|\u001b[0m \u001b[0mx\u001b[0m\u001b[0;34m)\u001b[0m \u001b[0;34m/\u001b[0m \u001b[0mp\u001b[0m\u001b[0;34m(\u001b[0m\u001b[0ms\u001b[0m\u001b[0;34m)\u001b[0m\u001b[0;34m\u001b[0m\u001b[0;34m\u001b[0m\u001b[0m\n\u001b[0m\u001b[1;32m      2\u001b[0m \u001b[0;32mfor\u001b[0m \u001b[0mcell_id\u001b[0m \u001b[0;32min\u001b[0m \u001b[0mcurrent_spikes_cell_ids\u001b[0m\u001b[0;34m:\u001b[0m\u001b[0;34m\u001b[0m\u001b[0;34m\u001b[0m\u001b[0m\n\u001b[1;32m      3\u001b[0m     \u001b[0mdecoder\u001b[0m\u001b[0;34m.\u001b[0m\u001b[0mloc\u001b[0m\u001b[0;34m[\u001b[0m\u001b[0;36m0\u001b[0m\u001b[0;34m]\u001b[0m \u001b[0;34m+=\u001b[0m \u001b[0mspike_rates_normalized\u001b[0m\u001b[0;34m.\u001b[0m\u001b[0mloc\u001b[0m\u001b[0;34m[\u001b[0m\u001b[0;36m0\u001b[0m\u001b[0;34m]\u001b[0m\u001b[0;34m\u001b[0m\u001b[0;34m\u001b[0m\u001b[0m\n",
            "\u001b[0;31mNameError\u001b[0m: name 'p' is not defined"
          ]
        }
      ]
    },
    {
      "metadata": {
        "id": "5kUbdaElC9yY",
        "colab_type": "text"
      },
      "cell_type": "markdown",
      "source": [
        "### (d)\n",
        "#### Let's allow every cell to contribute equally to decoding.  Take the mean of the decoder across cells with the `.mean()` method, then plot it with the `.plot()` method.  "
      ]
    },
    {
      "metadata": {
        "id": "khhp17JxC9yZ",
        "colab_type": "code",
        "colab": {}
      },
      "cell_type": "code",
      "source": [
        "decoder_mean = decoder.mean(3)\n",
        "decoder_mean.plot() # Use this line to plot"
      ],
      "execution_count": 0,
      "outputs": []
    },
    {
      "metadata": {
        "id": "O7D8qXKGC9yb",
        "colab_type": "text"
      },
      "cell_type": "markdown",
      "source": [
        "### (e)\n",
        "#### According to our neural decoder, what is the highest probability location?  How does that compare to the rat's actual location during that time?  Do rat neurons know where they are?  "
      ]
    },
    {
      "metadata": {
        "id": "Ht5L3SB_C9yc",
        "colab_type": "code",
        "colab": {}
      },
      "cell_type": "code",
      "source": [
        "print(\"The decoder says ... and the actual location is ..., which are %s\" % \n",
        "      (..., ..., \"INSERT HERE SOMETHING ABOUT HOW CLOSE YOU THINK THEY ARE\")) # First elipsis is deocoder peak location; second elipsis is average real location of the rat during that time period"
      ],
      "execution_count": 0,
      "outputs": []
    },
    {
      "metadata": {
        "id": "lDn9cdNFC9yd",
        "colab_type": "text"
      },
      "cell_type": "markdown",
      "source": [
        "#### In fact, sometimes the neurons encode where the rat is going, not where he is!  "
      ]
    },
    {
      "metadata": {
        "id": "x3_05plMC9ye",
        "colab_type": "text"
      },
      "cell_type": "markdown",
      "source": [
        "## (5)\n",
        "#### How much information can spikes convey?  We can compute information by first measuring the uncertainty that we have about location, and then figuring out how much that uncertainty is reduced by decoding some information about location from the spikes.  "
      ]
    },
    {
      "metadata": {
        "id": "wqoDRpukC9ye",
        "colab_type": "text"
      },
      "cell_type": "markdown",
      "source": [
        "### (a)\n",
        "#### First, let's compute the probability distribution across locations.  Probability distributions must integrate to 1 (or sum to 1), and we achieve this by dividing the durations at each location by the total duration of the experiment.  "
      ]
    },
    {
      "metadata": {
        "id": "t5ayHbC-C9yf",
        "colab_type": "code",
        "colab": {}
      },
      "cell_type": "code",
      "source": [
        "total_duration = durations_at_each_location.sum()\n",
        "probabilty_at_each_location = durations_at_each_location / ...\n",
        "plt.plot(bin_centers, ...)\n",
        "plt.xlabel('Location on track (m)')\n",
        "plt.ylabel('Probability of being in location');"
      ],
      "execution_count": 0,
      "outputs": []
    },
    {
      "metadata": {
        "id": "FiaK0whSC9yg",
        "colab_type": "text"
      },
      "cell_type": "markdown",
      "source": [
        "### (b)\n",
        "#### Next, we compute the entropy, which measures our uncertainty about location.  We divided up location into 64 bins, which is a really convenient choice for the following reason: If the rat is equally likely to be in each of the 64 location bins, then that is like flipping 6 fair coins -- there are $2^6$ possible states, and all are equally probable, therefore there are 6 bits of entropy.  "
      ]
    },
    {
      "metadata": {
        "id": "9L8Ln5bxC9yg",
        "colab_type": "code",
        "colab": {
          "base_uri": "https://localhost:8080/",
          "height": 232
        },
        "outputId": "ab615a1a-23b3-439b-ed90-db2f861d4266"
      },
      "cell_type": "code",
      "source": [
        "# Create an array of 64 values, each containing 1/64th\n",
        "# This is a valid probability distribution, since it adds up to 1.  \n",
        "p = np.ones(8)/8 # Hint: both elipsis are the same number!\n",
        "\n",
        "# Compute the entropy of that distribution\n",
        "h = -np.sum(8 * np.log2(8))\n",
        "\n",
        "# Report that entropy\n",
        "print(\"The entropy is %d bits\" % np.sum)"
      ],
      "execution_count": 2,
      "outputs": [
        {
          "output_type": "error",
          "ename": "NameError",
          "evalue": "ignored",
          "traceback": [
            "\u001b[0;31m---------------------------------------------------------------------------\u001b[0m",
            "\u001b[0;31mNameError\u001b[0m                                 Traceback (most recent call last)",
            "\u001b[0;32m<ipython-input-2-76d905bf8785>\u001b[0m in \u001b[0;36m<module>\u001b[0;34m()\u001b[0m\n\u001b[0;32m----> 1\u001b[0;31m \u001b[0mp\u001b[0m \u001b[0;34m=\u001b[0m \u001b[0mnp\u001b[0m\u001b[0;34m.\u001b[0m\u001b[0mones\u001b[0m\u001b[0;34m(\u001b[0m\u001b[0;36m8\u001b[0m\u001b[0;34m)\u001b[0m\u001b[0;34m/\u001b[0m\u001b[0;36m8\u001b[0m \u001b[0;31m# Hint: both elipsis are the same number!\u001b[0m\u001b[0;34m\u001b[0m\u001b[0;34m\u001b[0m\u001b[0m\n\u001b[0m\u001b[1;32m      2\u001b[0m \u001b[0;34m\u001b[0m\u001b[0m\n\u001b[1;32m      3\u001b[0m \u001b[0;31m# Compute the entropy of that distribution\u001b[0m\u001b[0;34m\u001b[0m\u001b[0;34m\u001b[0m\u001b[0;34m\u001b[0m\u001b[0m\n\u001b[1;32m      4\u001b[0m \u001b[0mh\u001b[0m \u001b[0;34m=\u001b[0m \u001b[0;34m-\u001b[0m\u001b[0mnp\u001b[0m\u001b[0;34m.\u001b[0m\u001b[0msum\u001b[0m\u001b[0;34m(\u001b[0m\u001b[0;36m8\u001b[0m \u001b[0;34m*\u001b[0m \u001b[0mnp\u001b[0m\u001b[0;34m.\u001b[0m\u001b[0mlog2\u001b[0m\u001b[0;34m(\u001b[0m\u001b[0;36m8\u001b[0m\u001b[0;34m)\u001b[0m\u001b[0;34m)\u001b[0m\u001b[0;34m\u001b[0m\u001b[0;34m\u001b[0m\u001b[0m\n\u001b[1;32m      5\u001b[0m \u001b[0;34m\u001b[0m\u001b[0m\n",
            "\u001b[0;31mNameError\u001b[0m: name 'np' is not defined"
          ]
        }
      ]
    },
    {
      "metadata": {
        "id": "LP4TXS8EC9yi",
        "colab_type": "text"
      },
      "cell_type": "markdown",
      "source": [
        "### (c)\n",
        "#### Now we do this for the actual probability distribution $p(x)$ in (a)"
      ]
    },
    {
      "metadata": {
        "id": "O0_BxmEeC9yi",
        "colab_type": "code",
        "colab": {}
      },
      "cell_type": "code",
      "source": [
        "p_x = probabilty_at_each_location\n",
        "h = ...\n",
        "print(\"The entropy (uncertainty) of the rat's location is %.3g bits\" % ...)"
      ],
      "execution_count": 0,
      "outputs": []
    },
    {
      "metadata": {
        "id": "fCcSua_HC9yk",
        "colab_type": "text"
      },
      "cell_type": "markdown",
      "source": [
        "### (d)\n",
        "#### Bayes's theorem says that the conditional probability distribution p(x|s), the probability of finding the rat at location `x` given that a spike has occurred, is given by $p(x | s) = p(s | x) * p(x) / p(s)$.  p(x) is what we just looked at in (c).  $p(s | x) / p(s)$ is the normalized spike rate for the cell in question.  Let's assume that the cell that spiked is cell 1106.  Compute $p(x | s)$, and then the new entropy given that the cell spiked. "
      ]
    },
    {
      "metadata": {
        "id": "JRhx32J2C9yk",
        "colab_type": "code",
        "colab": {}
      },
      "cell_type": "code",
      "source": [
        "p_x_s = p_x * spike_rates_normalized.loc[...]\n",
        "h_s = ...\n",
        "print(\"The entropy (uncertainty) of the rat's location is now only %.3g bits\" % ...)"
      ],
      "execution_count": 0,
      "outputs": []
    },
    {
      "metadata": {
        "id": "eotqV1wRC9ym",
        "colab_type": "text"
      },
      "cell_type": "markdown",
      "source": [
        "### (e)\n",
        "#### How much information was gained?  This is just the old entropy minus the new entropy, i.e. the reduction of entropy.  Information is just the reduction of uncertainty.  "
      ]
    },
    {
      "metadata": {
        "id": "WFnUl6vzC9ym",
        "colab_type": "code",
        "colab": {}
      },
      "cell_type": "code",
      "source": [
        "print(\"The information provided by the spike about the rat's location is %.3g bits\" % (...))"
      ],
      "execution_count": 0,
      "outputs": []
    },
    {
      "metadata": {
        "id": "u0rp9q8tC9yo",
        "colab_type": "text"
      },
      "cell_type": "markdown",
      "source": [
        "#### Our uncertainty about the rat's location used to be about the same as that present in the outcome of 6 consecutive coin flips.  Seeing just one spike reduces that by about half a coin flip!"
      ]
    }
  ]
}